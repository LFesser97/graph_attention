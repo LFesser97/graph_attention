{
 "cells": [
  {
   "cell_type": "code",
   "execution_count": 38,
   "metadata": {},
   "outputs": [],
   "source": [
    "import os.path as osp\n",
    "import time\n",
    "import matplotlib.pyplot as plt\n",
    "\n",
    "import torch\n",
    "import torch.nn.functional as F\n",
    "\n",
    "import torch_geometric.transforms as T\n",
    "from torch_geometric.datasets import Planetoid, WebKB, HeterophilousGraphDataset\n",
    "# from torch_geometric.logging import init_wandb, log\n",
    "from torch_geometric.nn import GATConv\n",
    "from torch_geometric.utils import to_networkx, from_networkx, to_dense_adj\n",
    "\n",
    "from FormanRicci import FormanRicci\n",
    "\n",
    "dataset_name = 'Cora'\n",
    "hidden_channels = 8\n",
    "heads = 1\n",
    "lr = 0.005\n",
    "epochs =200\n",
    "\n",
    "device = torch.device('cuda' if torch.cuda.is_available() else 'cpu')\n",
    "#init_wandb(name=f'GAT-{args.dataset}', heads=args.heads, epochs=args.epochs,\n",
    "#           hidden_channels=args.hidden_channels, lr=args.lr, device=device)\n",
    "\n",
    "dataset = Planetoid(root=\"data\", name=dataset_name)\n",
    "data = dataset[0].to(device)"
   ]
  },
  {
   "cell_type": "code",
   "execution_count": 39,
   "metadata": {},
   "outputs": [],
   "source": [
    "\"\"\"\n",
    "class GAT(torch.nn.Module):\n",
    "    def __init__(self, in_channels, hidden_channels, out_channels, heads):\n",
    "        super().__init__()\n",
    "        self.conv1 = GATConv(in_channels, hidden_channels, heads, dropout=0.6)\n",
    "        # On the Pubmed dataset, use `heads` output heads in `conv2`.\n",
    "        self.conv2 = GATConv(hidden_channels * heads, out_channels, heads=1,\n",
    "                             concat=False, dropout=0.6)\n",
    "\n",
    "    def forward(self, x, edge_index):\n",
    "        x = F.dropout(x, p=0.6, training=self.training)\n",
    "        attention_scores_1 = self.conv1(x, edge_index, return_attention_weights=True)[1]\n",
    "        x = F.elu(self.conv1(x, edge_index))\n",
    "        x = F.dropout(x, p=0.6, training=self.training)\n",
    "        attention_scores_2 = self.conv2(x, edge_index, return_attention_weights=True)[1]\n",
    "        x = self.conv2(x, edge_index)\n",
    "        return x, attention_scores_1, attention_scores_2\n",
    "\n",
    "\"\"\"\n",
    "# 4-layer GAT\n",
    "\n",
    "class GAT(torch.nn.Module):\n",
    "    def __init__(self, in_channels, hidden_channels, out_channels, heads):\n",
    "        super().__init__()\n",
    "        self.conv1 = GATConv(in_channels, hidden_channels, heads, dropout=0.6)\n",
    "        self.conv2 = GATConv(hidden_channels * heads, out_channels, heads=1, concat=False, dropout=0.6)\n",
    "        \n",
    "        # Add a third convolutional layer\n",
    "        self.conv3 = GATConv(out_channels, out_channels, heads=1, concat=False, dropout=0.6)\n",
    "\n",
    "    def forward(self, x, edge_index):\n",
    "        x = F.dropout(x, p=0.6, training=self.training)\n",
    "        attention_scores_1 = self.conv1(x, edge_index, return_attention_weights=True)[1]\n",
    "        x = F.elu(self.conv1(x, edge_index))\n",
    "        x = F.dropout(x, p=0.6, training=self.training)\n",
    "        attention_scores_2 = self.conv2(x, edge_index, return_attention_weights=True)[1]\n",
    "        x = self.conv2(x, edge_index)\n",
    "        attention_scores_3 = self.conv3(x, edge_index, return_attention_weights=True)[1]\n",
    "        x = F.elu(self.conv3(x, edge_index))\n",
    "        attention_scores_4 = self.conv3(x, edge_index, return_attention_weights=True)[1]\n",
    "        x = F.elu(self.conv3(x, edge_index))\n",
    "        \n",
    "        return x, attention_scores_1, attention_scores_2, attention_scores_3, attention_scores_4\n",
    "\n",
    "\n",
    "def train():\n",
    "    model.train()\n",
    "    optimizer.zero_grad()\n",
    "    out = model(data.x, data.edge_index)[0]\n",
    "    loss = F.cross_entropy(out[data.train_mask], data.y[data.train_mask])\n",
    "    loss.backward()\n",
    "    optimizer.step()\n",
    "    return float(loss)\n",
    "\n",
    "\n",
    "@torch.no_grad()\n",
    "def test():\n",
    "    model.eval()\n",
    "    pred = model(data.x, data.edge_index)[0].argmax(dim=-1)\n",
    "\n",
    "    accs = []\n",
    "    for mask in [data.train_mask, data.val_mask, data.test_mask]:\n",
    "        accs.append(int((pred[mask] == data.y[mask]).sum()) / int(mask.sum()))\n",
    "    return accs"
   ]
  },
  {
   "cell_type": "code",
   "execution_count": 40,
   "metadata": {},
   "outputs": [
    {
     "name": "stdout",
     "output_type": "stream",
     "text": [
      "Median time per epoch: 0.0162s\n"
     ]
    }
   ],
   "source": [
    "model = GAT(dataset.num_features, hidden_channels, dataset.num_classes,\n",
    "            heads).to(device)\n",
    "optimizer = torch.optim.Adam(model.parameters(), lr=0.005, weight_decay=5e-4)\n",
    "\n",
    "times = []\n",
    "best_val_acc = final_test_acc = 0\n",
    "for epoch in range(1, epochs + 1):\n",
    "    start = time.time()\n",
    "    loss = train()\n",
    "    train_acc, val_acc, tmp_test_acc = test()\n",
    "    # print(\"Train Acc: \", train_acc, \"Val Acc: \", val_acc, \"Test Acc: \", tmp_test_acc)\n",
    "    if val_acc > best_val_acc:\n",
    "        best_val_acc = val_acc\n",
    "        test_acc = tmp_test_acc\n",
    "    # log(Epoch=epoch, Loss=loss, Train=train_acc, Val=val_acc, Test=test_acc)\n",
    "    times.append(time.time() - start)\n",
    "print(f\"Median time per epoch: {torch.tensor(times).median():.4f}s\")"
   ]
  },
  {
   "cell_type": "code",
   "execution_count": 41,
   "metadata": {},
   "outputs": [],
   "source": [
    "pred, attention_scores_1, attention_scores_2, attention_scores_3, attention_scores_4 = model(data.x, data.edge_index)"
   ]
  },
  {
   "cell_type": "code",
   "execution_count": 11,
   "metadata": {},
   "outputs": [],
   "source": [
    "G = to_networkx(dataset[0])"
   ]
  },
  {
   "cell_type": "code",
   "execution_count": 42,
   "metadata": {},
   "outputs": [
    {
     "name": "stdout",
     "output_type": "stream",
     "text": [
      "Num. nodes: 2708\n",
      "Num. edges: 10556\n",
      "All edges in computation graph: 13264\n"
     ]
    }
   ],
   "source": [
    "print(\"Num. nodes:\", len(G.nodes()))\n",
    "\n",
    "print(\"Num. edges:\", len(G.edges()))\n",
    "\n",
    "print(\"All edges in computation graph:\", len(G.edges()) + len(G.nodes()))"
   ]
  },
  {
   "cell_type": "code",
   "execution_count": 53,
   "metadata": {},
   "outputs": [
    {
     "data": {
      "text/plain": [
       "tensor([ 633, 1862, 2582,  ..., 2705, 2706, 2707], device='cuda:0')"
      ]
     },
     "execution_count": 53,
     "metadata": {},
     "output_type": "execute_result"
    }
   ],
   "source": [
    "\"\"\"\n",
    "- attention_scores_1 is a tuple with all the edges contained in attention_scores_1[0]\n",
    "\n",
    "- attention_scores_1[0] is a PyTorch tensor with shape [2, 13264] (2 nodes make up one edge)\n",
    "\n",
    "- attention_scores_1[1] is a PyTorch tensor with shape [13264, 8], where 8 is the number of attention heads\n",
    "\"\"\"\n",
    "\n",
    "attention_scores_1[0][1]"
   ]
  },
  {
   "cell_type": "code",
   "execution_count": 10,
   "metadata": {},
   "outputs": [],
   "source": [
    "# sum over multiple attention heads\n",
    "\n",
    "attention_1_list = [sum(item).detach().numpy() for item in attention_scores_1[1].cpu()][:len(G.edges)]"
   ]
  },
  {
   "cell_type": "code",
   "execution_count": 23,
   "metadata": {},
   "outputs": [],
   "source": [
    "# assume we only have one attention head\n",
    "\n",
    "attention_4_list = [item[0].detach().numpy() for item in attention_scores_4[1].cpu()][:len(G.edges)]"
   ]
  },
  {
   "cell_type": "code",
   "execution_count": 25,
   "metadata": {},
   "outputs": [
    {
     "data": {
      "image/png": "[encoded data removed]",
      "text/plain": [
       "<Figure size 640x480 with 1 Axes>"
      ]
     },
     "metadata": {},
     "output_type": "display_data"
    }
   ],
   "source": [
    "# Create a histogram\n",
    "plt.hist(attention_4_list, bins=100, edgecolor='black')  # Adjust the number of bins as needed\n",
    "\n",
    "# Add labels and a title\n",
    "plt.xlabel('Attention Score')\n",
    "plt.ylabel('Frequency')\n",
    "plt.title('Attention Score Distribution (GAT, 4/4) for CORA')\n",
    "\n",
    "# Show the plot\n",
    "plt.show()"
   ]
  },
  {
   "cell_type": "code",
   "execution_count": 3,
   "metadata": {},
   "outputs": [],
   "source": [
    "afrc = FormanRicci(G)\n",
    "afrc.compute_ricci_curvature()\n",
    "_C = sorted(afrc.G.edges, key=lambda x: afrc.G[x[0]][x[1]]['AFRC'])"
   ]
  },
  {
   "cell_type": "code",
   "execution_count": 4,
   "metadata": {},
   "outputs": [],
   "source": [
    "curvature_values = [afrc.G[edge[0]][edge[1]]['AFRC'] for edge in _C]"
   ]
  },
  {
   "cell_type": "code",
   "execution_count": 17,
   "metadata": {},
   "outputs": [
    {
     "data": {
      "text/plain": [
       "<networkx.classes.digraph.DiGraph at 0x14e86466de50>"
      ]
     },
     "execution_count": 17,
     "metadata": {},
     "output_type": "execute_result"
    }
   ],
   "source": [
    "# Compute correlation between attention and ORC\n",
    "\n",
    "from GraphRicciCurvature.OllivierRicci import OllivierRicci\n",
    "\n",
    "orc_values = []\n",
    "\n",
    "orc = OllivierRicci(G, alpha=0.5, verbose=\"ERROR\")\n",
    "orc.compute_ricci_curvature()"
   ]
  },
  {
   "cell_type": "code",
   "execution_count": 18,
   "metadata": {},
   "outputs": [],
   "source": [
    "for i in range(len(attention_2_list)):\n",
    "    u = attention_scores_2[0][0][i].cpu().item()\n",
    "    v = attention_scores_2[0][1][i].cpu().item()\n",
    "    orc_values.append(orc.G.edges[u, v][\"ricciCurvature\"])"
   ]
  },
  {
   "cell_type": "code",
   "execution_count": 6,
   "metadata": {},
   "outputs": [
    {
     "data": {
      "image/png": "[encoded data removed]",
      "text/plain": [
       "<Figure size 640x480 with 1 Axes>"
      ]
     },
     "metadata": {},
     "output_type": "display_data"
    }
   ],
   "source": [
    "# Create a histogram\n",
    "plt.hist(curvature_values, bins=100, edgecolor='black')  # Adjust the number of bins as needed\n",
    "\n",
    "# Add labels and a title\n",
    "plt.xlabel('Augmented Forman-Ricci Curvature')\n",
    "plt.ylabel('Frequency')\n",
    "plt.title('AFRC-3 Distribution for CORA')\n",
    "\n",
    "# Show the plot\n",
    "plt.show()"
   ]
  },
  {
   "cell_type": "code",
   "execution_count": 21,
   "metadata": {},
   "outputs": [
    {
     "name": "stdout",
     "output_type": "stream",
     "text": [
      "Pearson correlation coefficient: -0.001377833082498199\n",
      "P Value: 0.8874392742149991\n"
     ]
    }
   ],
   "source": [
    "from scipy.stats import pearsonr\n",
    "\n",
    "# Calculate the Pearson correlation coefficient\n",
    "correlation_coefficient, p_value = pearsonr(attention_3_list, curvature_values)\n",
    "\n",
    "print(\"Pearson correlation coefficient:\", correlation_coefficient)\n",
    "print(\"P Value:\", p_value)"
   ]
  }
 ],
 "metadata": {
  "kernelspec": {
   "display_name": "borf_2",
   "language": "python",
   "name": "borf_2"
  },
  "language_info": {
   "codemirror_mode": {
    "name": "ipython",
    "version": 3
   },
   "file_extension": ".py",
   "mimetype": "text/x-python",
   "name": "python",
   "nbconvert_exporter": "python",
   "pygments_lexer": "ipython3",
   "version": "3.9.13"
  }
 },
 "nbformat": 4,
 "nbformat_minor": 4
}
